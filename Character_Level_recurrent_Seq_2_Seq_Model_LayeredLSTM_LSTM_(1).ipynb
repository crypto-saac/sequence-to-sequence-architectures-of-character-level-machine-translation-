{
  "nbformat": 4,
  "nbformat_minor": 0,
  "metadata": {
    "colab": {
      "provenance": [],
      "gpuType": "T4",
      "include_colab_link": true
    },
    "kernelspec": {
      "name": "python3",
      "display_name": "Python 3"
    },
    "language_info": {
      "name": "python"
    },
    "accelerator": "GPU"
  },
  "cells": [
    {
      "cell_type": "markdown",
      "metadata": {
        "id": "view-in-github",
        "colab_type": "text"
      },
      "source": [
        "<a href=\"https://colab.research.google.com/github/crypto-saac/sequence-to-sequence-architectures-of-character-level-machine-translation-/blob/main/Character_Level_recurrent_Seq_2_Seq_Model_LayeredLSTM_LSTM_(1).ipynb\" target=\"_parent\"><img src=\"https://colab.research.google.com/assets/colab-badge.svg\" alt=\"Open In Colab\"/></a>"
      ]
    },
    {
      "cell_type": "code",
      "execution_count": null,
      "metadata": {
        "id": "glGgYZSu-XA2"
      },
      "outputs": [],
      "source": [
        "import numpy as np\n",
        "import tensorflow as tf\n",
        "from tensorflow import keras"
      ]
    },
    {
      "cell_type": "code",
      "source": [
        "!!curl -O http://www.manythings.org/anki/fra-eng.zip\n",
        "!!unzip fra-eng.zip"
      ],
      "metadata": {
        "colab": {
          "base_uri": "https://localhost:8080/"
        },
        "id": "mgLhI19Z-q_l",
        "outputId": "fb2bb868-b6ba-42f6-fffc-6b25ed27b881"
      },
      "execution_count": null,
      "outputs": [
        {
          "output_type": "execute_result",
          "data": {
            "text/plain": [
              "['Archive:  fra-eng.zip',\n",
              " 'replace _about.txt? [y]es, [n]o, [A]ll, [N]one, [r]ename: N']"
            ]
          },
          "metadata": {},
          "execution_count": 2
        }
      ]
    },
    {
      "cell_type": "code",
      "source": [
        "batch_size = 64  # Batch size for training.\n",
        "epochs = 100  # Number of epochs to train for.\n",
        "latent_dim = 256  # Latent dimensionality of the encoding space.\n",
        "num_samples = 10000  # Number of samples to train on.\n",
        "# Path to the data txt file on disk.\n",
        "data_path = \"fra.txt\""
      ],
      "metadata": {
        "id": "Nv2J1njI-sFl"
      },
      "execution_count": null,
      "outputs": []
    },
    {
      "cell_type": "code",
      "source": [
        "# Vectorize the data.\n",
        "input_texts = []\n",
        "target_texts = []\n",
        "input_characters = set()\n",
        "target_characters = set()\n",
        "with open(data_path, \"r\", encoding=\"utf-8\") as f:\n",
        "    lines = f.read().split(\"\\n\")\n",
        "for line in lines[: min(num_samples, len(lines) - 1)]:\n",
        "    input_text, target_text, _ = line.split(\"\\t\")\n",
        "    # We use \"tab\" as the \"start sequence\" character\n",
        "    # for the targets, and \"\\n\" as \"end sequence\" character.\n",
        "    target_text = \"\\t\" + target_text + \"\\n\"\n",
        "    input_texts.append(input_text)\n",
        "    target_texts.append(target_text)\n",
        "    for char in input_text:\n",
        "        if char not in input_characters:\n",
        "            input_characters.add(char)\n",
        "    for char in target_text:\n",
        "        if char not in target_characters:\n",
        "            target_characters.add(char)\n",
        "\n",
        "input_characters = sorted(list(input_characters))\n",
        "target_characters = sorted(list(target_characters))\n",
        "num_encoder_tokens = len(input_characters)\n",
        "num_decoder_tokens = len(target_characters)\n",
        "max_encoder_seq_length = max([len(txt) for txt in input_texts])\n",
        "max_decoder_seq_length = max([len(txt) for txt in target_texts])\n",
        "\n",
        "print(\"Number of samples:\", len(input_texts))\n",
        "print(\"Number of unique input tokens (num_encoder_tokenes):\", num_encoder_tokens)\n",
        "print(\"Number of unique output tokens (num_decoder_tokens):\", num_decoder_tokens)\n",
        "print(\"Max sequence length for inputs (max_encoder_seq_length):\", max_encoder_seq_length)\n",
        "print(\"Max sequence length for outputs (max_decoder_seq_length):\", max_decoder_seq_length)\n",
        "\n",
        "input_token_index = dict([(char, i) for i, char in enumerate(input_characters)])\n",
        "target_token_index = dict([(char, i) for i, char in enumerate(target_characters)])\n",
        "\n",
        "encoder_input_data = np.zeros(\n",
        "    (len(input_texts), max_encoder_seq_length, num_encoder_tokens), dtype=\"float32\"\n",
        ")\n",
        "decoder_input_data = np.zeros(\n",
        "    (len(input_texts), max_decoder_seq_length, num_decoder_tokens), dtype=\"float32\"\n",
        ")\n",
        "decoder_target_data = np.zeros(\n",
        "    (len(input_texts), max_decoder_seq_length, num_decoder_tokens), dtype=\"float32\"\n",
        ")\n",
        "\n",
        "for i, (input_text, target_text) in enumerate(zip(input_texts, target_texts)):\n",
        "    for t, char in enumerate(input_text):\n",
        "        encoder_input_data[i, t, input_token_index[char]] = 1.0\n",
        "    encoder_input_data[i, t + 1 :, input_token_index[\" \"]] = 1.0\n",
        "    for t, char in enumerate(target_text):\n",
        "        # decoder_target_data is ahead of decoder_input_data by one timestep\n",
        "        decoder_input_data[i, t, target_token_index[char]] = 1.0\n",
        "        if t > 0:\n",
        "            # decoder_target_data will be ahead by one timestep\n",
        "            # and will not include the start character.\n",
        "            decoder_target_data[i, t - 1, target_token_index[char]] = 1.0\n",
        "    decoder_input_data[i, t + 1 :, target_token_index[\" \"]] = 1.0\n",
        "    decoder_target_data[i, t:, target_token_index[\" \"]] = 1.0"
      ],
      "metadata": {
        "colab": {
          "base_uri": "https://localhost:8080/"
        },
        "id": "QfTTQBFL-tT2",
        "outputId": "30281ce5-4e63-4600-e118-3541e0f5614b"
      },
      "execution_count": null,
      "outputs": [
        {
          "output_type": "stream",
          "name": "stdout",
          "text": [
            "Number of samples: 10000\n",
            "Number of unique input tokens (num_encoder_tokenes): 70\n",
            "Number of unique output tokens (num_decoder_tokens): 93\n",
            "Max sequence length for inputs (max_encoder_seq_length): 14\n",
            "Max sequence length for outputs (max_decoder_seq_length): 59\n"
          ]
        }
      ]
    },
    {
      "cell_type": "code",
      "source": [
        "# Define an input sequence and process it.\n",
        "encoder_inputs = keras.Input(shape=(None, num_encoder_tokens))\n",
        "\n",
        "# Define the first LSTM layer\n",
        "encoder_lstm_1 = keras.layers.LSTM(latent_dim, return_sequences=True, return_state=True)\n",
        "encoder_outputs_1, state_h_1, state_c_1 = encoder_lstm_1(encoder_inputs)\n",
        "\n",
        "# Define the second LSTM layer\n",
        "encoder_lstm_2 = keras.layers.LSTM(latent_dim, return_state=True)\n",
        "encoder_outputs, state_h_2, state_c_2 = encoder_lstm_2(encoder_outputs_1)\n",
        "\n",
        "# Concatenate the forward and backward hidden states\n",
        "state_h = keras.layers.Concatenate()([state_h_2, state_c_2])\n",
        "state_c = keras.layers.Concatenate()([state_h_2, state_c_2])\n",
        "\n",
        "encoder_states = [state_h, state_c]\n",
        "\n",
        "decoder_inputs = keras.Input(shape=(None, num_decoder_tokens))\n",
        "\n",
        "# We set up our decoder to return full output sequences,\n",
        "# and to return internal states as well. We don't use the\n",
        "# return states in the training model, but we will use them in inference.\n",
        "decoder_lstm = keras.layers.LSTM(latent_dim*2, return_sequences=True, return_state=True)\n",
        "decoder_outputs, _, _ = decoder_lstm(decoder_inputs, initial_state=encoder_states)\n",
        "\n",
        "decoder_dense = keras.layers.Dense(num_decoder_tokens, activation=\"softmax\")\n",
        "decoder_outputs = decoder_dense(decoder_outputs)\n",
        "\n",
        "# Define the model that will turn\n",
        "# `encoder_input_data` & `decoder_input_data` into `decoder_target_data`\n",
        "model = keras.Model([encoder_inputs, decoder_inputs], decoder_outputs)\n",
        "\n"
      ],
      "metadata": {
        "id": "XKE9vWz5-vxF"
      },
      "execution_count": null,
      "outputs": []
    },
    {
      "cell_type": "code",
      "source": [
        "model.compile(\n",
        "    optimizer=\"adam\", loss=\"categorical_crossentropy\", metrics=[\"accuracy\"]\n",
        ")\n",
        "model.fit(\n",
        "    [encoder_input_data, decoder_input_data],\n",
        "    decoder_target_data,\n",
        "    batch_size=batch_size,\n",
        "    epochs=epochs,\n",
        "    validation_split=0.2,\n",
        ")\n",
        "# Save model\n",
        "model.save(\"s2s\")"
      ],
      "metadata": {
        "colab": {
          "base_uri": "https://localhost:8080/"
        },
        "id": "FdwXYzR3-yp2",
        "outputId": "93b83af6-8d13-4d8f-d2e8-39b5eedafe01"
      },
      "execution_count": null,
      "outputs": [
        {
          "output_type": "stream",
          "name": "stdout",
          "text": [
            "Epoch 1/100\n",
            "125/125 [==============================] - 12s 33ms/step - loss: 1.2159 - accuracy: 0.7313 - val_loss: 1.0189 - val_accuracy: 0.7140\n",
            "Epoch 2/100\n",
            "125/125 [==============================] - 3s 21ms/step - loss: 0.8238 - accuracy: 0.7732 - val_loss: 0.8152 - val_accuracy: 0.7839\n",
            "Epoch 3/100\n",
            "125/125 [==============================] - 3s 24ms/step - loss: 0.6651 - accuracy: 0.8146 - val_loss: 0.6845 - val_accuracy: 0.8042\n",
            "Epoch 4/100\n",
            "125/125 [==============================] - 3s 21ms/step - loss: 0.5791 - accuracy: 0.8323 - val_loss: 0.6083 - val_accuracy: 0.8233\n",
            "Epoch 5/100\n",
            "125/125 [==============================] - 3s 21ms/step - loss: 0.5313 - accuracy: 0.8448 - val_loss: 0.5746 - val_accuracy: 0.8319\n",
            "Epoch 6/100\n",
            "125/125 [==============================] - 3s 21ms/step - loss: 0.4980 - accuracy: 0.8544 - val_loss: 0.5470 - val_accuracy: 0.8407\n",
            "Epoch 7/100\n",
            "125/125 [==============================] - 3s 21ms/step - loss: 0.4710 - accuracy: 0.8613 - val_loss: 0.5300 - val_accuracy: 0.8463\n",
            "Epoch 8/100\n",
            "125/125 [==============================] - 3s 23ms/step - loss: 0.4501 - accuracy: 0.8666 - val_loss: 0.5114 - val_accuracy: 0.8491\n",
            "Epoch 9/100\n",
            "125/125 [==============================] - 3s 22ms/step - loss: 0.4316 - accuracy: 0.8720 - val_loss: 0.4968 - val_accuracy: 0.8542\n",
            "Epoch 10/100\n",
            "125/125 [==============================] - 3s 21ms/step - loss: 0.4126 - accuracy: 0.8772 - val_loss: 0.4865 - val_accuracy: 0.8558\n",
            "Epoch 11/100\n",
            "125/125 [==============================] - 3s 21ms/step - loss: 0.3951 - accuracy: 0.8820 - val_loss: 0.4806 - val_accuracy: 0.8577\n",
            "Epoch 12/100\n",
            "125/125 [==============================] - 3s 24ms/step - loss: 0.3791 - accuracy: 0.8865 - val_loss: 0.4671 - val_accuracy: 0.8621\n",
            "Epoch 13/100\n",
            "125/125 [==============================] - 3s 21ms/step - loss: 0.3748 - accuracy: 0.8883 - val_loss: 0.4588 - val_accuracy: 0.8644\n",
            "Epoch 14/100\n",
            "125/125 [==============================] - 3s 21ms/step - loss: 0.3514 - accuracy: 0.8944 - val_loss: 0.4508 - val_accuracy: 0.8665\n",
            "Epoch 15/100\n",
            "125/125 [==============================] - 3s 21ms/step - loss: 0.3357 - accuracy: 0.8989 - val_loss: 0.4451 - val_accuracy: 0.8684\n",
            "Epoch 16/100\n",
            "125/125 [==============================] - 3s 21ms/step - loss: 0.3199 - accuracy: 0.9039 - val_loss: 0.4406 - val_accuracy: 0.8701\n",
            "Epoch 17/100\n",
            "125/125 [==============================] - 3s 22ms/step - loss: 0.3059 - accuracy: 0.9078 - val_loss: 0.4370 - val_accuracy: 0.8726\n",
            "Epoch 18/100\n",
            "125/125 [==============================] - 3s 21ms/step - loss: 0.2913 - accuracy: 0.9122 - val_loss: 0.4324 - val_accuracy: 0.8744\n",
            "Epoch 19/100\n",
            "125/125 [==============================] - 3s 21ms/step - loss: 0.2767 - accuracy: 0.9165 - val_loss: 0.4269 - val_accuracy: 0.8765\n",
            "Epoch 20/100\n",
            "125/125 [==============================] - 3s 21ms/step - loss: 0.2637 - accuracy: 0.9205 - val_loss: 0.4297 - val_accuracy: 0.8748\n",
            "Epoch 21/100\n",
            "125/125 [==============================] - 3s 24ms/step - loss: 0.2503 - accuracy: 0.9241 - val_loss: 0.4266 - val_accuracy: 0.8777\n",
            "Epoch 22/100\n",
            "125/125 [==============================] - 3s 22ms/step - loss: 0.2372 - accuracy: 0.9283 - val_loss: 0.4264 - val_accuracy: 0.8786\n",
            "Epoch 23/100\n",
            "125/125 [==============================] - 3s 21ms/step - loss: 0.2229 - accuracy: 0.9323 - val_loss: 0.4295 - val_accuracy: 0.8786\n",
            "Epoch 24/100\n",
            "125/125 [==============================] - 3s 22ms/step - loss: 0.2121 - accuracy: 0.9354 - val_loss: 0.4313 - val_accuracy: 0.8789\n",
            "Epoch 25/100\n",
            "125/125 [==============================] - 3s 24ms/step - loss: 0.2009 - accuracy: 0.9389 - val_loss: 0.4384 - val_accuracy: 0.8787\n",
            "Epoch 26/100\n",
            "125/125 [==============================] - 3s 22ms/step - loss: 0.1889 - accuracy: 0.9420 - val_loss: 0.4386 - val_accuracy: 0.8794\n",
            "Epoch 27/100\n",
            "125/125 [==============================] - 3s 21ms/step - loss: 0.1787 - accuracy: 0.9453 - val_loss: 0.4437 - val_accuracy: 0.8793\n",
            "Epoch 28/100\n",
            "125/125 [==============================] - 3s 21ms/step - loss: 0.1671 - accuracy: 0.9487 - val_loss: 0.4438 - val_accuracy: 0.8814\n",
            "Epoch 29/100\n",
            "125/125 [==============================] - 3s 21ms/step - loss: 0.1572 - accuracy: 0.9518 - val_loss: 0.4557 - val_accuracy: 0.8785\n",
            "Epoch 30/100\n",
            "125/125 [==============================] - 3s 25ms/step - loss: 0.1566 - accuracy: 0.9516 - val_loss: 0.4585 - val_accuracy: 0.8791\n",
            "Epoch 31/100\n",
            "125/125 [==============================] - 3s 22ms/step - loss: 0.1418 - accuracy: 0.9562 - val_loss: 0.4651 - val_accuracy: 0.8798\n",
            "Epoch 32/100\n",
            "125/125 [==============================] - 3s 21ms/step - loss: 0.1320 - accuracy: 0.9591 - val_loss: 0.4680 - val_accuracy: 0.8798\n",
            "Epoch 33/100\n",
            "125/125 [==============================] - 3s 21ms/step - loss: 0.1240 - accuracy: 0.9614 - val_loss: 0.4766 - val_accuracy: 0.8806\n",
            "Epoch 34/100\n",
            "125/125 [==============================] - 3s 24ms/step - loss: 0.1168 - accuracy: 0.9637 - val_loss: 0.4861 - val_accuracy: 0.8799\n",
            "Epoch 35/100\n",
            "125/125 [==============================] - 3s 22ms/step - loss: 0.1113 - accuracy: 0.9652 - val_loss: 0.4870 - val_accuracy: 0.8803\n",
            "Epoch 36/100\n",
            "125/125 [==============================] - 3s 21ms/step - loss: 0.1058 - accuracy: 0.9669 - val_loss: 0.4989 - val_accuracy: 0.8795\n",
            "Epoch 37/100\n",
            "125/125 [==============================] - 3s 22ms/step - loss: 0.0985 - accuracy: 0.9692 - val_loss: 0.5039 - val_accuracy: 0.8795\n",
            "Epoch 38/100\n",
            "125/125 [==============================] - 3s 22ms/step - loss: 0.0935 - accuracy: 0.9704 - val_loss: 0.5167 - val_accuracy: 0.8803\n",
            "Epoch 39/100\n",
            "125/125 [==============================] - 3s 25ms/step - loss: 0.0895 - accuracy: 0.9713 - val_loss: 0.5221 - val_accuracy: 0.8795\n",
            "Epoch 40/100\n",
            "125/125 [==============================] - 3s 22ms/step - loss: 0.0848 - accuracy: 0.9728 - val_loss: 0.5280 - val_accuracy: 0.8794\n",
            "Epoch 41/100\n",
            "125/125 [==============================] - 3s 24ms/step - loss: 0.0802 - accuracy: 0.9740 - val_loss: 0.5378 - val_accuracy: 0.8789\n",
            "Epoch 42/100\n",
            "125/125 [==============================] - 3s 21ms/step - loss: 0.0769 - accuracy: 0.9752 - val_loss: 0.5441 - val_accuracy: 0.8783\n",
            "Epoch 43/100\n",
            "125/125 [==============================] - 3s 22ms/step - loss: 0.0731 - accuracy: 0.9760 - val_loss: 0.5499 - val_accuracy: 0.8789\n",
            "Epoch 44/100\n",
            "125/125 [==============================] - 3s 22ms/step - loss: 0.0703 - accuracy: 0.9771 - val_loss: 0.5575 - val_accuracy: 0.8792\n",
            "Epoch 45/100\n",
            "125/125 [==============================] - 3s 21ms/step - loss: 0.0666 - accuracy: 0.9780 - val_loss: 0.5613 - val_accuracy: 0.8798\n",
            "Epoch 46/100\n",
            "125/125 [==============================] - 3s 22ms/step - loss: 0.0643 - accuracy: 0.9788 - val_loss: 0.5645 - val_accuracy: 0.8784\n",
            "Epoch 47/100\n",
            "125/125 [==============================] - 3s 22ms/step - loss: 0.0614 - accuracy: 0.9795 - val_loss: 0.5738 - val_accuracy: 0.8791\n",
            "Epoch 48/100\n",
            "125/125 [==============================] - 3s 23ms/step - loss: 0.0595 - accuracy: 0.9802 - val_loss: 0.5793 - val_accuracy: 0.8786\n",
            "Epoch 49/100\n",
            "125/125 [==============================] - 3s 22ms/step - loss: 0.0574 - accuracy: 0.9806 - val_loss: 0.5838 - val_accuracy: 0.8794\n",
            "Epoch 50/100\n",
            "125/125 [==============================] - 3s 22ms/step - loss: 0.0554 - accuracy: 0.9811 - val_loss: 0.5896 - val_accuracy: 0.8783\n",
            "Epoch 51/100\n",
            "125/125 [==============================] - 3s 22ms/step - loss: 0.0541 - accuracy: 0.9815 - val_loss: 0.5893 - val_accuracy: 0.8790\n",
            "Epoch 52/100\n",
            "125/125 [==============================] - 3s 23ms/step - loss: 0.0547 - accuracy: 0.9810 - val_loss: 0.6042 - val_accuracy: 0.8786\n",
            "Epoch 53/100\n",
            "125/125 [==============================] - 3s 23ms/step - loss: 0.0510 - accuracy: 0.9822 - val_loss: 0.5996 - val_accuracy: 0.8791\n",
            "Epoch 54/100\n",
            "125/125 [==============================] - 3s 22ms/step - loss: 0.0496 - accuracy: 0.9827 - val_loss: 0.6107 - val_accuracy: 0.8782\n",
            "Epoch 55/100\n",
            "125/125 [==============================] - 3s 22ms/step - loss: 0.0475 - accuracy: 0.9833 - val_loss: 0.6118 - val_accuracy: 0.8782\n",
            "Epoch 56/100\n",
            "125/125 [==============================] - 3s 22ms/step - loss: 0.0468 - accuracy: 0.9834 - val_loss: 0.6190 - val_accuracy: 0.8782\n",
            "Epoch 57/100\n",
            "125/125 [==============================] - 3s 25ms/step - loss: 0.0461 - accuracy: 0.9834 - val_loss: 0.6233 - val_accuracy: 0.8786\n",
            "Epoch 58/100\n",
            "125/125 [==============================] - 3s 21ms/step - loss: 0.0455 - accuracy: 0.9839 - val_loss: 0.6268 - val_accuracy: 0.8785\n",
            "Epoch 59/100\n",
            "125/125 [==============================] - 3s 22ms/step - loss: 0.0441 - accuracy: 0.9841 - val_loss: 0.6258 - val_accuracy: 0.8781\n",
            "Epoch 60/100\n",
            "125/125 [==============================] - 3s 22ms/step - loss: 0.0430 - accuracy: 0.9843 - val_loss: 0.6344 - val_accuracy: 0.8778\n",
            "Epoch 61/100\n",
            "125/125 [==============================] - 3s 26ms/step - loss: 0.0422 - accuracy: 0.9844 - val_loss: 0.6427 - val_accuracy: 0.8779\n",
            "Epoch 62/100\n",
            "125/125 [==============================] - 3s 22ms/step - loss: 0.0419 - accuracy: 0.9847 - val_loss: 0.6397 - val_accuracy: 0.8784\n",
            "Epoch 63/100\n",
            "125/125 [==============================] - 3s 22ms/step - loss: 0.0408 - accuracy: 0.9850 - val_loss: 0.6391 - val_accuracy: 0.8785\n",
            "Epoch 64/100\n",
            "125/125 [==============================] - 3s 22ms/step - loss: 0.0403 - accuracy: 0.9850 - val_loss: 0.6495 - val_accuracy: 0.8772\n",
            "Epoch 65/100\n",
            "125/125 [==============================] - 3s 23ms/step - loss: 0.0401 - accuracy: 0.9852 - val_loss: 0.6428 - val_accuracy: 0.8788\n",
            "Epoch 66/100\n",
            "125/125 [==============================] - 3s 23ms/step - loss: 0.0394 - accuracy: 0.9852 - val_loss: 0.6412 - val_accuracy: 0.8787\n",
            "Epoch 67/100\n",
            "125/125 [==============================] - 3s 22ms/step - loss: 0.0379 - accuracy: 0.9856 - val_loss: 0.6592 - val_accuracy: 0.8778\n",
            "Epoch 68/100\n",
            "125/125 [==============================] - 3s 22ms/step - loss: 0.0380 - accuracy: 0.9856 - val_loss: 0.6503 - val_accuracy: 0.8783\n",
            "Epoch 69/100\n",
            "125/125 [==============================] - 3s 22ms/step - loss: 0.0372 - accuracy: 0.9857 - val_loss: 0.6653 - val_accuracy: 0.8777\n",
            "Epoch 70/100\n",
            "125/125 [==============================] - 3s 23ms/step - loss: 0.0378 - accuracy: 0.9855 - val_loss: 0.6567 - val_accuracy: 0.8785\n",
            "Epoch 71/100\n",
            "125/125 [==============================] - 3s 22ms/step - loss: 0.0373 - accuracy: 0.9858 - val_loss: 0.6601 - val_accuracy: 0.8780\n",
            "Epoch 72/100\n",
            "125/125 [==============================] - 3s 22ms/step - loss: 0.0364 - accuracy: 0.9860 - val_loss: 0.6658 - val_accuracy: 0.8788\n",
            "Epoch 73/100\n",
            "125/125 [==============================] - 3s 22ms/step - loss: 0.0357 - accuracy: 0.9863 - val_loss: 0.6774 - val_accuracy: 0.8786\n",
            "Epoch 74/100\n",
            "125/125 [==============================] - 3s 22ms/step - loss: 0.0356 - accuracy: 0.9861 - val_loss: 0.6631 - val_accuracy: 0.8790\n",
            "Epoch 75/100\n",
            "125/125 [==============================] - 3s 23ms/step - loss: 0.0374 - accuracy: 0.9856 - val_loss: 0.6614 - val_accuracy: 0.8768\n",
            "Epoch 76/100\n",
            "125/125 [==============================] - 3s 22ms/step - loss: 0.0473 - accuracy: 0.9825 - val_loss: 0.6667 - val_accuracy: 0.8782\n",
            "Epoch 77/100\n",
            "125/125 [==============================] - 3s 22ms/step - loss: 0.0400 - accuracy: 0.9848 - val_loss: 0.6693 - val_accuracy: 0.8782\n",
            "Epoch 78/100\n",
            "125/125 [==============================] - 3s 21ms/step - loss: 0.0359 - accuracy: 0.9859 - val_loss: 0.6623 - val_accuracy: 0.8786\n",
            "Epoch 79/100\n",
            "125/125 [==============================] - 3s 24ms/step - loss: 0.0332 - accuracy: 0.9867 - val_loss: 0.6695 - val_accuracy: 0.8792\n",
            "Epoch 80/100\n",
            "125/125 [==============================] - 3s 22ms/step - loss: 0.0326 - accuracy: 0.9867 - val_loss: 0.6691 - val_accuracy: 0.8794\n",
            "Epoch 81/100\n",
            "125/125 [==============================] - 3s 22ms/step - loss: 0.0318 - accuracy: 0.9869 - val_loss: 0.6685 - val_accuracy: 0.8795\n",
            "Epoch 82/100\n",
            "125/125 [==============================] - 3s 22ms/step - loss: 0.0314 - accuracy: 0.9869 - val_loss: 0.6792 - val_accuracy: 0.8791\n",
            "Epoch 83/100\n",
            "125/125 [==============================] - 3s 22ms/step - loss: 0.0310 - accuracy: 0.9870 - val_loss: 0.6694 - val_accuracy: 0.8796\n",
            "Epoch 84/100\n",
            "125/125 [==============================] - 3s 23ms/step - loss: 0.0311 - accuracy: 0.9869 - val_loss: 0.6830 - val_accuracy: 0.8791\n",
            "Epoch 85/100\n",
            "125/125 [==============================] - 3s 22ms/step - loss: 0.0312 - accuracy: 0.9869 - val_loss: 0.6756 - val_accuracy: 0.8797\n",
            "Epoch 86/100\n",
            "125/125 [==============================] - 3s 22ms/step - loss: 0.0313 - accuracy: 0.9870 - val_loss: 0.6793 - val_accuracy: 0.8794\n",
            "Epoch 87/100\n",
            "125/125 [==============================] - 3s 22ms/step - loss: 0.0313 - accuracy: 0.9869 - val_loss: 0.6863 - val_accuracy: 0.8794\n",
            "Epoch 88/100\n",
            "125/125 [==============================] - 3s 23ms/step - loss: 0.0315 - accuracy: 0.9869 - val_loss: 0.6864 - val_accuracy: 0.8791\n",
            "Epoch 89/100\n",
            "125/125 [==============================] - 3s 22ms/step - loss: 0.0324 - accuracy: 0.9868 - val_loss: 0.6843 - val_accuracy: 0.8791\n",
            "Epoch 90/100\n",
            "125/125 [==============================] - 3s 22ms/step - loss: 0.0316 - accuracy: 0.9869 - val_loss: 0.6917 - val_accuracy: 0.8787\n",
            "Epoch 91/100\n",
            "125/125 [==============================] - 3s 22ms/step - loss: 0.0312 - accuracy: 0.9870 - val_loss: 0.6880 - val_accuracy: 0.8785\n",
            "Epoch 92/100\n",
            "125/125 [==============================] - 3s 24ms/step - loss: 0.0308 - accuracy: 0.9870 - val_loss: 0.6886 - val_accuracy: 0.8784\n",
            "Epoch 93/100\n",
            "125/125 [==============================] - 3s 23ms/step - loss: 0.0308 - accuracy: 0.9871 - val_loss: 0.6932 - val_accuracy: 0.8788\n",
            "Epoch 94/100\n",
            "125/125 [==============================] - 3s 22ms/step - loss: 0.0314 - accuracy: 0.9870 - val_loss: 0.6925 - val_accuracy: 0.8790\n",
            "Epoch 95/100\n",
            "125/125 [==============================] - 3s 25ms/step - loss: 0.0315 - accuracy: 0.9867 - val_loss: 0.6890 - val_accuracy: 0.8785\n",
            "Epoch 96/100\n",
            "125/125 [==============================] - 3s 22ms/step - loss: 0.0312 - accuracy: 0.9870 - val_loss: 0.6988 - val_accuracy: 0.8788\n",
            "Epoch 97/100\n",
            "125/125 [==============================] - 3s 25ms/step - loss: 0.0317 - accuracy: 0.9869 - val_loss: 0.6894 - val_accuracy: 0.8795\n",
            "Epoch 98/100\n",
            "125/125 [==============================] - 3s 22ms/step - loss: 0.0318 - accuracy: 0.9868 - val_loss: 0.6982 - val_accuracy: 0.8786\n",
            "Epoch 99/100\n",
            "125/125 [==============================] - 3s 22ms/step - loss: 0.0312 - accuracy: 0.9869 - val_loss: 0.6951 - val_accuracy: 0.8785\n",
            "Epoch 100/100\n",
            "125/125 [==============================] - 3s 22ms/step - loss: 0.0309 - accuracy: 0.9870 - val_loss: 0.6960 - val_accuracy: 0.8786\n"
          ]
        },
        {
          "output_type": "stream",
          "name": "stderr",
          "text": [
            "WARNING:absl:Found untraced functions such as lstm_cell_layer_call_fn, lstm_cell_layer_call_and_return_conditional_losses, lstm_cell_1_layer_call_fn, lstm_cell_1_layer_call_and_return_conditional_losses, lstm_cell_2_layer_call_fn while saving (showing 5 of 6). These functions will not be directly callable after loading.\n"
          ]
        }
      ]
    },
    {
      "cell_type": "code",
      "source": [
        "pip install sacrebleu\n"
      ],
      "metadata": {
        "colab": {
          "base_uri": "https://localhost:8080/"
        },
        "id": "YdhOmro_KJ5A",
        "outputId": "539fb91a-5ef5-4369-a11b-227e46e1082b"
      },
      "execution_count": null,
      "outputs": [
        {
          "output_type": "stream",
          "name": "stdout",
          "text": [
            "Looking in indexes: https://pypi.org/simple, https://us-python.pkg.dev/colab-wheels/public/simple/\n",
            "Requirement already satisfied: sacrebleu in /usr/local/lib/python3.10/dist-packages (2.3.1)\n",
            "Requirement already satisfied: portalocker in /usr/local/lib/python3.10/dist-packages (from sacrebleu) (2.7.0)\n",
            "Requirement already satisfied: regex in /usr/local/lib/python3.10/dist-packages (from sacrebleu) (2022.10.31)\n",
            "Requirement already satisfied: tabulate>=0.8.9 in /usr/local/lib/python3.10/dist-packages (from sacrebleu) (0.8.10)\n",
            "Requirement already satisfied: numpy>=1.17 in /usr/local/lib/python3.10/dist-packages (from sacrebleu) (1.22.4)\n",
            "Requirement already satisfied: colorama in /usr/local/lib/python3.10/dist-packages (from sacrebleu) (0.4.6)\n",
            "Requirement already satisfied: lxml in /usr/local/lib/python3.10/dist-packages (from sacrebleu) (4.9.2)\n"
          ]
        }
      ]
    },
    {
      "cell_type": "code",
      "source": [
        "import numpy as np\n",
        "import tensorflow as tf\n",
        "from tensorflow import keras\n",
        "from nltk.translate.bleu_score import corpus_bleu, SmoothingFunction\n",
        "\n",
        "predictions = model.predict([encoder_input_data, decoder_input_data])\n",
        "\n",
        "# Convert predictions to text\n",
        "predicted_texts = []\n",
        "for prediction in predictions:\n",
        "    predicted_text = \"\"\n",
        "    for timestep in prediction:\n",
        "        # Get index of highest probability\n",
        "        char_index = np.argmax(timestep)\n",
        "        # Convert index to character\n",
        "        char = target_characters[char_index]\n",
        "        # Append character to predicted text\n",
        "        predicted_text += char\n",
        "        # Stop if end sequence character is generated\n",
        "        if char == \"\\n\":\n",
        "            break\n",
        "    predicted_texts.append(predicted_text)\n",
        "\n",
        "# Convert target texts to list of lists\n",
        "target_texts_list = [list(text) for text in target_texts]\n",
        "\n",
        "# Convert predicted texts to list of lists\n",
        "predicted_texts_list = [list(text) for text in predicted_texts]\n",
        "\n",
        "# Calculate BLEU score\n",
        "bleu_score = corpus_bleu([[text] for text in target_texts_list], predicted_texts_list)\n",
        "print(\"2 layered LSTM:\")\n",
        "print(\"BLEU score:\", bleu_score)"
      ],
      "metadata": {
        "colab": {
          "base_uri": "https://localhost:8080/"
        },
        "id": "tNkDCZH0ciYx",
        "outputId": "14680e07-96b0-4fa1-c3e7-cd3cbb1696b6"
      },
      "execution_count": null,
      "outputs": [
        {
          "output_type": "stream",
          "name": "stdout",
          "text": [
            "313/313 [==============================] - 2s 7ms/step\n",
            "2 layered LSTM:\n",
            "BLEU score: 0.775977632509008\n"
          ]
        }
      ]
    }
  ]
}